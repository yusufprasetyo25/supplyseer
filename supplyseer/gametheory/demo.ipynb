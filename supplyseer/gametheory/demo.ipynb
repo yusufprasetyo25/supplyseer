{
 "cells": [
  {
   "cell_type": "code",
   "execution_count": 1,
   "metadata": {},
   "outputs": [],
   "source": [
    "from coopgame import SupplyChainAnalyzer, SupplyChainGame\n",
    "from gameconfig import *"
   ]
  },
  {
   "cell_type": "code",
   "execution_count": 2,
   "metadata": {},
   "outputs": [],
   "source": [
    "# Create players\n",
    "supplier1 = Player(\n",
    "    id=\"S1\",\n",
    "    type=PlayerType.SUPPLIER,\n",
    "    capacity=100.0,\n",
    "    production_cost=10.0,\n",
    "    holding_cost=2.0,\n",
    "    setup_cost=1000.0,\n",
    "    market_power=0.7\n",
    ")\n",
    "\n",
    "supplier2 = Player(\n",
    "    id=\"S2\", \n",
    "    type=PlayerType.SUPPLIER,\n",
    "    capacity=80.0,\n",
    "    production_cost=12.0,\n",
    "    holding_cost=1.8,\n",
    "    setup_cost=800.0,\n",
    "    market_power=0.5\n",
    ")\n",
    "\n",
    "manufacturer1 = Player(\n",
    "    id=\"M1\",\n",
    "    type=PlayerType.MANUFACTURER,\n",
    "    capacity=90.0,\n",
    "    production_cost=15.0,\n",
    "    holding_cost=3.0,\n",
    "    setup_cost=2000.0,\n",
    "    market_power=0.6\n",
    ")\n",
    "\n",
    "manufacturer2 = Player(\n",
    "    id=\"M2\",\n",
    "    type=PlayerType.MANUFACTURER,\n",
    "    capacity=70.0,\n",
    "    production_cost=14.0,\n",
    "    holding_cost=2.8,\n",
    "    setup_cost=1800.0,\n",
    "    market_power=0.4\n",
    ")\n"
   ]
  },
  {
   "cell_type": "code",
   "execution_count": 3,
   "metadata": {},
   "outputs": [],
   "source": [
    "# Initialize game\n",
    "game = SupplyChainGame([supplier1, supplier2, manufacturer1, manufacturer2])\n",
    "analyzer = SupplyChainAnalyzer(game)"
   ]
  },
  {
   "cell_type": "code",
   "execution_count": 4,
   "metadata": {},
   "outputs": [],
   "source": [
    "# Find optimal stable partition\n",
    "optimal_partition, analysis = analyzer.find_optimal_partition()"
   ]
  },
  {
   "cell_type": "code",
   "execution_count": 5,
   "metadata": {},
   "outputs": [
    {
     "name": "stdout",
     "output_type": "stream",
     "text": [
      "\n",
      "Optimal Partition Analysis:\n",
      "Is stable: True\n",
      "Total value: 99.60\n"
     ]
    }
   ],
   "source": [
    "print(\"\\nOptimal Partition Analysis:\")\n",
    "print(f\"Is stable: {analysis['is_stable']}\")\n",
    "print(f\"Total value: {analysis['total_value']:.2f}\")"
   ]
  },
  {
   "cell_type": "code",
   "execution_count": 6,
   "metadata": {},
   "outputs": [
    {
     "name": "stdout",
     "output_type": "stream",
     "text": [
      "\n",
      "Coalition 1:\n",
      "Size: 2\n",
      "Value: 66.20\n",
      "Stability: 1.00\n",
      "Composition: {'suppliers': 2, 'manufacturers': 0, 'retailers': 0}\n",
      "Shapley values: {'S1': 'nan', 'S2': 'nan'}\n",
      "\n",
      "Coalition 2:\n",
      "Size: 2\n",
      "Value: 33.40\n",
      "Stability: 1.00\n",
      "Composition: {'suppliers': 0, 'manufacturers': 2, 'retailers': 0}\n",
      "Shapley values: {'M2': 'nan', 'M1': 'nan'}\n"
     ]
    }
   ],
   "source": [
    "for i, stats in enumerate(analysis['coalition_stats']):\n",
    "    print(f\"\\nCoalition {i+1}:\")\n",
    "    print(f\"Size: {stats['size']}\")\n",
    "    print(f\"Value: {stats['value']:.2f}\")\n",
    "    print(f\"Stability: {stats['stability']:.2f}\")\n",
    "    print(\"Composition:\", stats['composition'])\n",
    "    print(\"Shapley values:\", {k: f\"{v:.2f}\" for k,v in stats['shapley_values'].items()})"
   ]
  },
  {
   "cell_type": "code",
   "execution_count": 7,
   "metadata": {},
   "outputs": [],
   "source": [
    "# Analyze market power\n",
    "power_analysis = analyzer.analyze_market_power_distribution()"
   ]
  },
  {
   "cell_type": "code",
   "execution_count": 8,
   "metadata": {},
   "outputs": [
    {
     "name": "stdout",
     "output_type": "stream",
     "text": [
      "\n",
      "Market Power Analysis:\n",
      "By Type:\n",
      "supplier: Mean = 0.60\n",
      "manufacturer: Mean = 0.50\n"
     ]
    }
   ],
   "source": [
    "print(\"\\nMarket Power Analysis:\")\n",
    "print(\"By Type:\")\n",
    "for type_, powers in power_analysis['by_type'].items():\n",
    "    if powers:\n",
    "        print(f\"{type_.value}: Mean = {np.mean(powers):.2f}\")\n"
   ]
  },
  {
   "cell_type": "code",
   "execution_count": 9,
   "metadata": {},
   "outputs": [
    {
     "name": "stdout",
     "output_type": "stream",
     "text": [
      "\n",
      "By Coalition:\n",
      "Coalition 1:\n",
      "Size: 4\n",
      "Total power: 2.20\n",
      "Average power: 0.55\n"
     ]
    }
   ],
   "source": [
    "print(\"\\nBy Coalition:\")\n",
    "for i, coalition in enumerate(power_analysis['by_coalition']):\n",
    "    print(f\"Coalition {i+1}:\")\n",
    "    print(f\"Size: {coalition['size']}\")\n",
    "    print(f\"Total power: {coalition['total_power']:.2f}\")\n",
    "    print(f\"Average power: {coalition['avg_power']:.2f}\")"
   ]
  },
  {
   "cell_type": "code",
   "execution_count": 10,
   "metadata": {},
   "outputs": [
    {
     "name": "stdout",
     "output_type": "stream",
     "text": [
      "\n",
      "Simulating Coalition Evolution:\n"
     ]
    }
   ],
   "source": [
    "# Simulate evolution\n",
    "print(\"\\nSimulating Coalition Evolution:\")\n",
    "results = analyzer.simulate_evolution(num_periods=10)"
   ]
  },
  {
   "cell_type": "code",
   "execution_count": 11,
   "metadata": {},
   "outputs": [
    {
     "name": "stdout",
     "output_type": "stream",
     "text": [
      "\n",
      "Evolution Results:\n",
      "Total Value Trend: ['61.00', '61.00', '61.00', '61.00', '61.00', '61.00', '61.00', '61.00', '61.00', '61.00']\n",
      "Stability Trend: ['nan', 'nan', 'nan', 'nan', 'nan', 'nan', 'nan', 'nan', 'nan', 'nan']\n"
     ]
    }
   ],
   "source": [
    "print(\"\\nEvolution Results:\")\n",
    "print(\"Total Value Trend:\", [f\"{v:.2f}\" for v in results['total_value']])\n",
    "print(\"Stability Trend:\", [f\"{s:.2f}\" for s in results['stability']])"
   ]
  },
  {
   "cell_type": "code",
   "execution_count": 12,
   "metadata": {},
   "outputs": [
    {
     "name": "stdout",
     "output_type": "stream",
     "text": [
      "\n",
      "Number of stable partitions found: 2\n"
     ]
    }
   ],
   "source": [
    "# Example of finding stable coalitions\n",
    "stable_partitions = game.find_stable_partitions()\n",
    "print(f\"\\nNumber of stable partitions found: {len(stable_partitions)}\")"
   ]
  },
  {
   "cell_type": "code",
   "execution_count": null,
   "metadata": {},
   "outputs": [],
   "source": []
  }
 ],
 "metadata": {
  "kernelspec": {
   "display_name": "geminicomp",
   "language": "python",
   "name": "python3"
  },
  "language_info": {
   "codemirror_mode": {
    "name": "ipython",
    "version": 3
   },
   "file_extension": ".py",
   "mimetype": "text/x-python",
   "name": "python",
   "nbconvert_exporter": "python",
   "pygments_lexer": "ipython3",
   "version": "3.11.9"
  }
 },
 "nbformat": 4,
 "nbformat_minor": 2
}
